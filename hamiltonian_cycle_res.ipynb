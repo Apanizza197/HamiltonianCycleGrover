{
 "cells": [
  {
   "cell_type": "code",
   "execution_count": 1,
   "metadata": {},
   "outputs": [],
   "source": [
    "from qiskit import QuantumCircuit, QuantumRegister, ClassicalRegister\n",
    "from qiskit.primitives import Sampler\n",
    "import networkx as nx\n",
    "import numpy as np\n",
    "import matplotlib.pyplot as plt"
   ]
  },
  {
   "cell_type": "code",
   "execution_count": 2,
   "metadata": {},
   "outputs": [],
   "source": [
    "def create_random_directed_graph(num_nodes, edge_probability):\n",
    "    graph = nx.gnp_random_graph(num_nodes, edge_probability, directed=True)\n",
    "    return graph\n",
    "\n",
    "def create_random_undirected_graph(num_nodes, edge_probability):\n",
    "    graph = nx.gnp_random_graph(num_nodes, edge_probability, directed=False)\n",
    "    return graph\n",
    "\n",
    "def draw_graph(graph):\n",
    "    nx.draw(graph, with_labels=True)\n",
    "    plt.show()"
   ]
  },
  {
   "cell_type": "code",
   "execution_count": 47,
   "metadata": {},
   "outputs": [
    {
     "data": {
      "image/png": "[encoded data removed]",
      "text/plain": [
       "<Figure size 640x480 with 1 Axes>"
      ]
     },
     "metadata": {},
     "output_type": "display_data"
    }
   ],
   "source": [
    "def create_first_graph():\n",
    "    G = nx.DiGraph()\n",
    "    G.add_nodes_from([0, 1, 2, 3])\n",
    "    G.add_edges_from([(0, 1), (0, 2), (0, 3), (1, 0), (1, 2), (2, 0), (2, 1), (2, 3), (3, 2)])\n",
    "    return G\n",
    "\n",
    "def create_second_graph():\n",
    "    G = nx.DiGraph()\n",
    "    G.add_nodes_from([0, 1, 2, 3])\n",
    "    G.add_edges_from([(0, 1), (0, 2), (0, 3), (1, 0), (1, 2), (1, 3), (2, 0), (2, 1), (2, 3), (3, 0), (3, 1), (3, 2)])\n",
    "    return G\n",
    "\n",
    "def create_third_graph():\n",
    "    G = nx.DiGraph()\n",
    "    G.add_nodes_from([0, 1, 2, 3])\n",
    "    G.add_edges_from([(0, 1), (0, 2), (1, 0), (1, 2), (2, 0), (2, 1), (2, 3), (3, 2)])\n",
    "    return G\n",
    "\n",
    "G = create_third_graph()\n",
    "draw_graph(G)"
   ]
  },
  {
   "cell_type": "code",
   "execution_count": 4,
   "metadata": {},
   "outputs": [
    {
     "data": {
      "text/plain": [
       "'  \\\\begin{tikzpicture}\\n      \\\\draw\\n        (0.0:2) node (0){0}\\n        (90.0:2) node (1){1}\\n        (180.0:2) node (2){2}\\n        (270.0:2) node (3){3};\\n      \\\\begin{scope}[->]\\n        \\\\draw (0) to (1);\\n        \\\\draw (1) to (0);\\n        \\\\draw (1) to (2);\\n        \\\\draw (1) to (3);\\n        \\\\draw (2) to (0);\\n        \\\\draw (2) to (1);\\n        \\\\draw (2) to (3);\\n        \\\\draw (3) to (0);\\n        \\\\draw (3) to (2);\\n      \\\\end{scope}\\n    \\\\end{tikzpicture}\\n'"
      ]
     },
     "execution_count": 4,
     "metadata": {},
     "output_type": "execute_result"
    }
   ],
   "source": [
    "nx.to_latex_raw(G)"
   ]
  },
  {
   "cell_type": "code",
   "execution_count": 33,
   "metadata": {},
   "outputs": [],
   "source": [
    "def create_comparator_gate(num_qubits):\n",
    "    a = QuantumRegister(num_qubits, name=\"a\")\n",
    "    b = QuantumRegister(num_qubits, name=\"b\")\n",
    "    output = QuantumRegister(1, name=\"output\")\n",
    "\n",
    "    qc = QuantumCircuit(a, b, output, name=\"Comparator\")\n",
    "    for i in range(num_qubits):\n",
    "        qc.cx(a[i], b[i])\n",
    "    qc.x(b)\n",
    "    qc.mcx(b, output)\n",
    "    qc.x(b)\n",
    "    for i in range(num_qubits-1, -1, -1):\n",
    "        qc.cx(a[i], b[i])\n",
    "    \n",
    "    return qc.to_gate(label=\"Comparator\")\n",
    "\n",
    "def create_plus_one_gate(num_qubits):\n",
    "    qr = QuantumRegister(num_qubits, name=\"q\")\n",
    "    qc = QuantumCircuit(qr, name=\"PlusOne\")\n",
    "\n",
    "    for i in range(num_qubits-1, 0, -1):\n",
    "        control_qubits = qr[:i]\n",
    "        qc.mcx(control_qubits, qr[i])\n",
    "    qc.x(qr[0])\n",
    "    return qc.to_gate(label=\"PlusOne\")\n",
    "\n",
    "def create_minus_one_gate(num_qubits):\n",
    "    plus_one = create_plus_one_gate(num_qubits)\n",
    "    minus_one = plus_one.inverse()\n",
    "    minus_one.label = \"MinusOne\"\n",
    "    return minus_one\n"
   ]
  },
  {
   "cell_type": "code",
   "execution_count": 34,
   "metadata": {},
   "outputs": [],
   "source": [
    "def initialize_circuit(G):\n",
    "    num_nodes = G.number_of_nodes()\n",
    "    qubits_per_node = int(np.ceil(np.log2(num_nodes)))\n",
    "    aux_qubits = num_nodes * (num_nodes-1)/2\n",
    "\n",
    "    main_qr = QuantumRegister(num_nodes * qubits_per_node, name=\"main\")\n",
    "    anc_qr = QuantumRegister(aux_qubits, name=\"anc\")\n",
    "    output_qr = QuantumRegister(1, name=\"output\")\n",
    "    classical_reg = ClassicalRegister(num_nodes * qubits_per_node, name=\"c\")\n",
    "\n",
    "    qc = QuantumCircuit(main_qr, anc_qr, output_qr, classical_reg)\n",
    "\n",
    "    qc.h(main_qr)\n",
    "    qc.x(anc_qr)\n",
    "\n",
    "    return qc, main_qr, anc_qr, output_qr, classical_reg\n",
    "\n",
    "def create_missing_edge_block(G, comparator, plus_one, minus_one, num_nodes, qubits_per_node):\n",
    "    def get_missing_edges(G):\n",
    "        complement = nx.complement(G.to_directed())\n",
    "        missing_edges = list(complement.edges())\n",
    "        double_edges = []\n",
    "        for edge in missing_edges:\n",
    "            if (edge[1], edge[0]) in missing_edges:\n",
    "                missing_edges.remove((edge[1], edge[0]))\n",
    "                missing_edges.remove(edge)\n",
    "                double_edges.append(edge)\n",
    "                print(f\"Removed {edge}\")\n",
    "        return missing_edges, double_edges\n",
    "    \n",
    "    missing_edges, double_edges = get_missing_edges(G)\n",
    "    aux_qubits = num_nodes * (num_nodes-1)/2\n",
    "\n",
    "    main_qr = QuantumRegister(num_nodes * qubits_per_node, name=\"main\")\n",
    "    anc_qr = QuantumRegister(aux_qubits, name=\"anc\")\n",
    "\n",
    "    qc = QuantumCircuit(main_qr, anc_qr)\n",
    "\n",
    "    counter = 0\n",
    "    for edge in missing_edges:\n",
    "        print(edge)\n",
    "        target_1 = list(range(edge[0]*qubits_per_node, (edge[0]+1)*qubits_per_node))\n",
    "        target_2 = list(range(edge[1]*qubits_per_node, (edge[1]+1)*qubits_per_node))\n",
    "        qc.append(plus_one, target_1)\n",
    "        qc.append(comparator, target_1 + target_2 + [anc_qr[counter]])\n",
    "        qc.append(minus_one, target_1)\n",
    "        counter += 1\n",
    "    \n",
    "\n",
    "    for edge in double_edges:\n",
    "        print(edge)\n",
    "        target_1 = list(range(edge[0]*qubits_per_node, (edge[0]+1)*qubits_per_node))\n",
    "        target_2 = list(range(edge[1]*qubits_per_node, (edge[1]+1)*qubits_per_node))\n",
    "        qc.append(plus_one, target_1)\n",
    "        qc.append(comparator, target_1 + target_2 + [anc_qr[counter]])\n",
    "        qc.append(minus_one, target_1)\n",
    "        qc.append(minus_one, target_1)\n",
    "        qc.append(comparator, target_1 + target_2 + [anc_qr[counter]])\n",
    "        qc.append(plus_one, target_1)\n",
    "\n",
    "        counter += 1\n",
    "\n",
    "    missing_gate = qc.to_gate(label=\"MissingEdgeBlock\")\n",
    "    return missing_gate\n",
    "\n",
    "def create_positional_exclusivity_block(G, comparator, num_nodes, qubits_per_node):\n",
    "    aux_qubits = num_nodes * (num_nodes-1)/2\n",
    "\n",
    "    main_qr = QuantumRegister(num_nodes * qubits_per_node, name=\"main\")\n",
    "    anc_qr = QuantumRegister(aux_qubits, name=\"anc\")\n",
    "\n",
    "    qc = QuantumCircuit(main_qr, anc_qr)\n",
    "\n",
    "    counter = 0\n",
    "    for i in range(num_nodes):\n",
    "        target_1 = list(range(i*qubits_per_node, (i+1)*qubits_per_node))\n",
    "        for j in range(i+1, num_nodes):\n",
    "            target_2 = list(range(j*qubits_per_node, (j+1)*qubits_per_node))\n",
    "            qc.append(comparator, target_1 + target_2 + [anc_qr[counter]])\n",
    "            counter += 1\n",
    "\n",
    "    exclusivity_gate = qc.to_gate(label=\"PositionalExclusivityBlock\")\n",
    "    return exclusivity_gate\n"
   ]
  },
  {
   "cell_type": "code",
   "execution_count": 35,
   "metadata": {},
   "outputs": [],
   "source": [
    "def create_oracle(G):\n",
    "    num_nodes = G.number_of_nodes()\n",
    "    qubits_per_node = int(np.ceil(np.log2(num_nodes)))\n",
    "    \n",
    "    # Create the gates for the blocks\n",
    "    comparator = create_comparator_gate(qubits_per_node)\n",
    "    plus_one = create_plus_one_gate(qubits_per_node)\n",
    "    minus_one = create_minus_one_gate(qubits_per_node)\n",
    "\n",
    "    \n",
    "    # Create the blocks\n",
    "    missing_edge_block = create_missing_edge_block(G, comparator, plus_one, minus_one, num_nodes, qubits_per_node)\n",
    "    positional_exclusivity_block = create_positional_exclusivity_block(G, comparator, num_nodes, qubits_per_node)\n",
    "\n",
    "    main_qr = QuantumRegister(num_nodes * qubits_per_node, name=\"main\")\n",
    "    anc_qr = QuantumRegister(num_nodes * (num_nodes-1)/2, name=\"anc\")\n",
    "    output_qr = QuantumRegister(1, name=\"output\")\n",
    "    qc = QuantumCircuit(main_qr, anc_qr, output_qr)\n",
    "\n",
    "    qc.append(missing_edge_block, main_qr[:] + anc_qr[:])\n",
    "    qc.mcx(anc_qr, output_qr)\n",
    "    qc.append(missing_edge_block, main_qr[:] + anc_qr[:])\n",
    "\n",
    "    qc.append(positional_exclusivity_block, main_qr[:] + anc_qr[:])\n",
    "    qc.h(output_qr)\n",
    "    qc.mcx(anc_qr, output_qr)\n",
    "    qc.h(output_qr)\n",
    "    qc.append(positional_exclusivity_block, main_qr[:] + anc_qr[:])\n",
    "\n",
    "    qc.append(missing_edge_block, main_qr[:] + anc_qr[:])\n",
    "    qc.mcx(anc_qr, output_qr)\n",
    "    qc.append(missing_edge_block, main_qr[:] + anc_qr[:])\n",
    "\n",
    "    oracle = qc.to_gate(label=\"Oracle\")\n",
    "    return oracle\n",
    "\n",
    "def create_grover_diffusion_operator(G):\n",
    "    num_nodes = G.number_of_nodes()\n",
    "    qubits_per_node = int(np.ceil(np.log2(num_nodes)))\n",
    "                          \n",
    "    main_qr = QuantumRegister(num_nodes * qubits_per_node, name=\"main\")\n",
    "    qc = QuantumCircuit(main_qr)\n",
    "    qc.h(main_qr)\n",
    "    qc.x(main_qr)\n",
    "    qc.h(main_qr[-1])\n",
    "    qc.mcx(main_qr[:-1], main_qr[-1])\n",
    "    qc.h(main_qr[-1])\n",
    "    qc.x(main_qr)\n",
    "    qc.h(main_qr)\n",
    "\n",
    "    diffusion_operator = qc.to_gate(label=\"DiffusionOperator\")\n",
    "    return diffusion_operator\n",
    "\n",
    "def build_circuit(G, iterations=1):\n",
    "    qc, main_qr, anc_qr, output_qr, classical_reg = initialize_circuit(G)\n",
    "    oracle = create_oracle(G)\n",
    "    diffuser = create_grover_diffusion_operator(G)\n",
    "\n",
    "    for _ in range(iterations):\n",
    "        qc.append(oracle, main_qr[:] + anc_qr[:] + output_qr[:])\n",
    "        qc.append(diffuser, main_qr[:])\n",
    "    qc.measure(main_qr, classical_reg)\n",
    "\n",
    "    return qc\n"
   ]
  },
  {
   "cell_type": "code",
   "execution_count": 49,
   "metadata": {},
   "outputs": [
    {
     "name": "stdout",
     "output_type": "stream",
     "text": [
      "Removed (0, 3)\n",
      "Removed (3, 1)\n",
      "(0, 3)\n",
      "(3, 1)\n"
     ]
    }
   ],
   "source": [
    "\n",
    "circuit = build_circuit(G, 1)\n",
    "# circuit.decompose().decompose().draw(output=\"mpl\")\n",
    "# circuit.decompose().draw(output=\"mpl\")\n",
    "# circuit.draw(output=\"mpl\")\n"
   ]
  },
  {
   "cell_type": "code",
   "execution_count": 50,
   "metadata": {},
   "outputs": [
    {
     "data": {
      "image/png": "[encoded data removed]",
      "text/plain": [
       "<Figure size 640x480 with 1 Axes>"
      ]
     },
     "metadata": {},
     "output_type": "display_data"
    }
   ],
   "source": [
    "\n",
    "sampler = Sampler()\n",
    "result = sampler.run(circuit, shots=1000).result()\n",
    "data = result.quasi_dists[0]\n",
    "plt.hist(data.keys(), weights=data.values(), bins=256)\n",
    "plt.show()\n"
   ]
  },
  {
   "cell_type": "code",
   "execution_count": 51,
   "metadata": {},
   "outputs": [
    {
     "name": "stdout",
     "output_type": "stream",
     "text": [
      "{}\n"
     ]
    }
   ],
   "source": [
    "# convert the data to binary, maintaining the dictionary structure\n",
    "binary_data = {format(k, '08b'): v for k, v in data.items()}\n",
    "\n",
    "# Get the onnes with a more than 1% probability\n",
    "filtered_data = {k: v for k, v in binary_data.items() if v > 0.015}\n",
    "print(filtered_data)\n",
    "# Separe each result into four two bit strings, and convert them to integers\n",
    "results = {tuple([int(k[i:i+2], 2) for i in range(0, 8, 2)]): v for k, v in filtered_data.items()}\n",
    "for r in results:\n",
    "    print(r, results[r])\n",
    "\n"
   ]
  },
  {
   "cell_type": "code",
   "execution_count": null,
   "metadata": {},
   "outputs": [],
   "source": [
    "draw_graph(G)"
   ]
  }
 ],
 "metadata": {
  "kernelspec": {
   "display_name": "qiskit_space",
   "language": "python",
   "name": "python3"
  },
  "language_info": {
   "codemirror_mode": {
    "name": "ipython",
    "version": 3
   },
   "file_extension": ".py",
   "mimetype": "text/x-python",
   "name": "python",
   "nbconvert_exporter": "python",
   "pygments_lexer": "ipython3",
   "version": "3.12.1"
  }
 },
 "nbformat": 4,
 "nbformat_minor": 2
}
